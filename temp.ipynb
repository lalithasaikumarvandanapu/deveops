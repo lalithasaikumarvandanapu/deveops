{
  "nbformat": 4,
  "nbformat_minor": 0,
  "metadata": {
    "colab": {
      "provenance": [],
      "authorship_tag": "ABX9TyNIfHCWniK+ZDybq7XkkL9x",
      "include_colab_link": true
    },
    "kernelspec": {
      "name": "python3",
      "display_name": "Python 3"
    },
    "language_info": {
      "name": "python"
    }
  },
  "cells": [
    {
      "cell_type": "markdown",
      "metadata": {
        "id": "view-in-github",
        "colab_type": "text"
      },
      "source": [
        "<a href=\"https://colab.research.google.com/github/lalithasaikumarvandanapu/deveops/blob/main/temp.ipynb\" target=\"_parent\"><img src=\"https://colab.research.google.com/assets/colab-badge.svg\" alt=\"Open In Colab\"/></a>"
      ]
    },
    {
      "cell_type": "markdown",
      "source": [
        "## **Hello World**"
      ],
      "metadata": {
        "id": "mj1zS8Yllyvn"
      }
    },
    {
      "cell_type": "code",
      "source": [],
      "metadata": {
        "id": "6rwQpEtll98S"
      },
      "execution_count": null,
      "outputs": []
    }
  ]
}